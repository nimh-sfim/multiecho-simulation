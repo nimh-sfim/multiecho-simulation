{
 "cells": [
  {
   "cell_type": "code",
   "execution_count": null,
   "id": "648a6ab9",
   "metadata": {},
   "outputs": [],
   "source": [
    "import numpy as np\n",
    "from matplotlib import pyplot as plt\n",
    "import simlib.generate_sims\n",
    "import simlib.generate_timeseries"
   ]
  },
  {
   "cell_type": "code",
   "execution_count": null,
   "id": "473701cc",
   "metadata": {},
   "outputs": [],
   "source": [
    "# Creating baseline random timeseries\n",
    "n_reps=5\n",
    "n_timepoints=300\n",
    "s_input = simlib.generate_timeseries.gen_bandpass_randn_timeseries(n_reps=n_reps, n_timepoints=n_timepoints)\n",
    "plt.plot(s_input[0:2,:].T)"
   ]
  },
  {
   "cell_type": "code",
   "execution_count": null,
   "id": "980fce78",
   "metadata": {},
   "outputs": [],
   "source": [
    "te_baseline=28\n",
    "s0_baseline=500\n",
    "r2s_baseline=1/28\n",
    "s0_r2s_prop_list = [0, 0.33, 0.66, 1]\n",
    "te_list = [14, 28, 42]\n",
    "noise_list = [0, 0.04, 0.08, 0.12, 0.16]\n",
    "\n",
    "sim_data = np.zeros((n_reps, n_timepoints, len(te_list), len(s0_r2s_prop_list), len(noise_list)))\n",
    "\n",
    "for noise_idx, noise_var_ratio in enumerate(noise_list):\n",
    "    for s0_prop_idx, proportion_s0 in enumerate(s0_r2s_prop_list):\n",
    "        for echo_idx, te_output in enumerate(te_list):\n",
    "            sim_data[:,:,echo_idx, s0_prop_idx, noise_idx] = simlib.generate_sims.generate_s_with_noise(\n",
    "                te_baseline=te_baseline,\n",
    "                s0_baseline=s0_baseline,\n",
    "                r2s_baseline=r2s_baseline,\n",
    "                inputted_s=s_input,\n",
    "                proportion_s0_r2s=proportion_s0,\n",
    "                te_output=te_output,\n",
    "                noise_var_ratio=noise_var_ratio,\n",
    "                pchange=True\n",
    "                )"
   ]
  },
  {
   "cell_type": "code",
   "execution_count": null,
   "id": "88a02737",
   "metadata": {},
   "outputs": [],
   "source": [
    "rep_idx=1\n",
    "noise_idx=0\n",
    "plt.figure(figsize=(20,20))\n",
    "for s0_prop_idx, proportion_s0 in enumerate(s0_r2s_prop_list):\n",
    "    plt.subplot(2,2,s0_prop_idx+1)\n",
    "    plt.plot(np.squeeze(sim_data[rep_idx,:,:,s0_prop_idx,noise_idx]))\n",
    "    plt.title(f\"S0/R2* proportion {proportion_s0}\")"
   ]
  },
  {
   "cell_type": "code",
   "execution_count": null,
   "id": "c3862a69",
   "metadata": {},
   "outputs": [],
   "source": [
    "rep_idx=1\n",
    "s0_prop_idx=0\n",
    "plt.figure(figsize=(20,20))\n",
    "for noise_idx, noise_var_ratio in enumerate(noise_list):\n",
    "    plt.subplot(2,3,noise_idx+1)\n",
    "    plt.plot(np.squeeze(sim_data[rep_idx,:,:,s0_prop_idx,noise_idx]))\n",
    "    plt.title(f\"Noise level {noise_var_ratio}\")"
   ]
  },
  {
   "cell_type": "code",
   "execution_count": null,
   "id": "15b22fd8",
   "metadata": {},
   "outputs": [],
   "source": [
    "sim_data"
   ]
  },
  {
   "cell_type": "code",
   "execution_count": null,
   "id": "94ce9c7b",
   "metadata": {},
   "outputs": [],
   "source": [
    "p = np.linspace(0,1,100)\n",
    "TE=28\n",
    "s0_baseline=500\n",
    "r2s_baseline=1/28\n",
    "ln_s=np.log(p)*np.log(s0_baseline) - np.log(1-p)*TE*r2s_baseline\n",
    "plt.plot(p, (ln_s))"
   ]
  },
  {
   "cell_type": "code",
   "execution_count": null,
   "id": "fb902f0a",
   "metadata": {},
   "outputs": [],
   "source": [
    "S = np.linspace(-10,10,50)\n",
    "n_S = len(S)\n",
    "delta_s0 = np.linspace(-50,50,100)\n",
    "n_ds0 = len(delta_s0)\n",
    "p = np.linspace(0,0.99,20)\n",
    "n_p = len(p)\n",
    "TE=28\n",
    "s0_baseline=500\n",
    "r2s_baseline=1/28\n",
    "\n",
    "delta_r2s = np.zeros((n_S, n_ds0, n_p))\n",
    "for ds_idx, ds_val in enumerate(delta_s0):\n",
    "    for p_idx, p_val in enumerate(p):\n",
    "        delta_r2s[:,ds_idx, p_idx] = (p_val * ds_val / s0_baseline - S) / ((1-p_val) * TE) \n",
    "\n",
    "\n",
    "plt.plot(delta_s0, delta_r2s[:,:,8].T)\n"
   ]
  },
  {
   "cell_type": "code",
   "execution_count": null,
   "id": "a9204fe4",
   "metadata": {},
   "outputs": [],
   "source": [
    "np.exp(1)"
   ]
  }
 ],
 "metadata": {
  "kernelspec": {
   "display_name": "Python 3",
   "language": "python",
   "name": "python3"
  },
  "language_info": {
   "codemirror_mode": {
    "name": "ipython",
    "version": 3
   },
   "file_extension": ".py",
   "mimetype": "text/x-python",
   "name": "python",
   "nbconvert_exporter": "python",
   "pygments_lexer": "ipython3",
   "version": "3.13.2"
  }
 },
 "nbformat": 4,
 "nbformat_minor": 5
}
